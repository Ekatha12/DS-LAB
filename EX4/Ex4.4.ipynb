{
 "cells": [
  {
   "cell_type": "code",
   "execution_count": 2,
   "id": "9ea80471",
   "metadata": {},
   "outputs": [
    {
     "name": "stdout",
     "output_type": "stream",
     "text": [
      "   Roll No    Name\n",
      "0        1   Harry\n",
      "1        2    John\n",
      "2        3    Mary\n",
      "3        4  Charly\n"
     ]
    }
   ],
   "source": [
    "import pandas as pd\n",
    "lst = [[1,'Harry'],[2,'John'],[3,'Mary'],[4,'Charly']]\n",
    "df= pd.DataFrame(lst,columns=[\"Roll No\",\"Name\"])\n",
    "print(df)"
   ]
  },
  {
   "cell_type": "code",
   "execution_count": null,
   "id": "c5591008",
   "metadata": {},
   "outputs": [],
   "source": []
  }
 ],
 "metadata": {
  "kernelspec": {
   "display_name": "Python 3 (ipykernel)",
   "language": "python",
   "name": "python3"
  },
  "language_info": {
   "codemirror_mode": {
    "name": "ipython",
    "version": 3
   },
   "file_extension": ".py",
   "mimetype": "text/x-python",
   "name": "python",
   "nbconvert_exporter": "python",
   "pygments_lexer": "ipython3",
   "version": "3.9.7"
  }
 },
 "nbformat": 4,
 "nbformat_minor": 5
}
