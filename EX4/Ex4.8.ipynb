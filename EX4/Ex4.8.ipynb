{
 "cells": [
  {
   "cell_type": "code",
   "execution_count": null,
   "id": "e69a3abb",
   "metadata": {},
   "outputs": [],
   "source": [
    "import pandas as pd\n",
    "d ={ 'Name' : ['Harry','John','Mary','Charly'],\n",
    "    'Age' : [25,35,26,30],\n",
    "    'Place' : ['TVM','NYR','LON','SAN']}\n",
    "\n",
    "print('DataFrame with custom index')\n",
    "df= pd.DataFrame(d,ind)\n",
    "df\n",
    "\n"
   ]
  }
 ],
 "metadata": {
  "kernelspec": {
   "display_name": "Python 3 (ipykernel)",
   "language": "python",
   "name": "python3"
  },
  "language_info": {
   "codemirror_mode": {
    "name": "ipython",
    "version": 3
   },
   "file_extension": ".py",
   "mimetype": "text/x-python",
   "name": "python",
   "nbconvert_exporter": "python",
   "pygments_lexer": "ipython3",
   "version": "3.9.7"
  }
 },
 "nbformat": 4,
 "nbformat_minor": 5
}
