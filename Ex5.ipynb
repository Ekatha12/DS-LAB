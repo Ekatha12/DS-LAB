{
 "cells": [
  {
   "cell_type": "code",
   "execution_count": 1,
   "id": "f199ddef",
   "metadata": {},
   "outputs": [],
   "source": [
    "from sklearn.datasets import load_iris\n",
    "iris=load_iris()\n",
    "data1=iris.data\n",
    "target1=iris.target"
   ]
  },
  {
   "cell_type": "code",
   "execution_count": 3,
   "id": "eaa06873",
   "metadata": {},
   "outputs": [],
   "source": [
    "from sklearn.model_selection import train_test_split\n",
    "data1_train,data1_test,target1_train,target1_test=train_test_split(data1,target1,test_size=0.3,random_state=1)"
   ]
  },
  {
   "cell_type": "code",
   "execution_count": 4,
   "id": "06887526",
   "metadata": {},
   "outputs": [
    {
     "name": "stdout",
     "output_type": "stream",
     "text": [
      "TARGET PREDICTION =  [0 1 1 0 2 1 2 0 0 2 1 0 2 1 1 0 1 1 0 0 1 1 1 0 2 1 0 0 1 2 1 2 1 2 2 0 1\n",
      " 0 1 2 2 0 1 2 1]\n"
     ]
    }
   ],
   "source": [
    "from sklearn.neighbors import KNeighborsClassifier\n",
    "from sklearn import metrics\n",
    "c_knn=KNeighborsClassifier(n_neighbors=3)\n",
    "c_knn.fit(data1_train,target1_train)\n",
    "target1_pred=c_knn.predict(data1_test)\n",
    "print(\"TARGET PREDICTION = \",target1_pred)"
   ]
  },
  {
   "cell_type": "code",
   "execution_count": 5,
   "id": "b058c4cb",
   "metadata": {},
   "outputs": [
    {
     "name": "stdout",
     "output_type": "stream",
     "text": [
      "ACCURACY =  0.9777777777777777\n"
     ]
    }
   ],
   "source": [
    "print(\"ACCURACY = \",metrics.accuracy_score(target1_test,target1_pred))"
   ]
  },
  {
   "cell_type": "code",
   "execution_count": 6,
   "id": "5fa54ad4",
   "metadata": {},
   "outputs": [
    {
     "name": "stdout",
     "output_type": "stream",
     "text": [
      "['virginica']\n"
     ]
    }
   ],
   "source": [
    "test1=[[3,5,4,4]]\n",
    "pred=c_knn.predict(test1)\n",
    "pred_value=[iris.target_names[p] for p in pred]\n",
    "print(pred_value)"
   ]
  },
  {
   "cell_type": "code",
   "execution_count": null,
   "id": "0f0cad02",
   "metadata": {},
   "outputs": [],
   "source": []
  }
 ],
 "metadata": {
  "kernelspec": {
   "display_name": "Python 3 (ipykernel)",
   "language": "python",
   "name": "python3"
  },
  "language_info": {
   "codemirror_mode": {
    "name": "ipython",
    "version": 3
   },
   "file_extension": ".py",
   "mimetype": "text/x-python",
   "name": "python",
   "nbconvert_exporter": "python",
   "pygments_lexer": "ipython3",
   "version": "3.9.0"
  }
 },
 "nbformat": 4,
 "nbformat_minor": 5
}
